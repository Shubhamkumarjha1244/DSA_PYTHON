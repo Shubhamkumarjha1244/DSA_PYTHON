{
 "cells": [
  {
   "cell_type": "code",
   "execution_count": null,
   "id": "961f165b",
   "metadata": {},
   "outputs": [],
   "source": [
    "'''linkedlist practice'''\n",
    "class Node:\n",
    "    def __init__(self,data):\n",
    "        self.data=data\n",
    "        self.next=None\n",
    "\n",
    "def inputLL():\n",
    "    inputList=[int(ele) for ele in input().split()]\n",
    "    head=None\n",
    "    tail=None\n",
    "    for currdata in inputList:\n",
    "        if currdata == -1:\n",
    "            break\n",
    "        node1=Node(currdata)\n",
    "        if head is None:\n",
    "            head =node1\n",
    "            tail=node1\n",
    "        tail.next=node1\n",
    "        tail=node1\n",
    "    return head\n",
    "\n",
    "def inputLL():\n",
    "    inputList=[int(ele) for ele in input().split() ]\n",
    "\n",
    "def printLL(head):\n",
    "    while(head):\n",
    "        print(head.data,end='->')\n",
    "        head=head.next\n",
    "\n",
    "def lengthofLL(head):\n",
    "    \n",
    "    count=0\n",
    "    while(head):\n",
    "        count+=1\n",
    "    return count\n",
    "        \n",
    "head = takeInput()\n",
    "print(lengthofLL(head))\n",
    "printLL(head)\n",
    "\n",
    "\n",
    "\n",
    "\n"
   ]
  }
 ],
 "metadata": {
  "kernelspec": {
   "display_name": "Python 3 (ipykernel)",
   "language": "python",
   "name": "python3"
  },
  "language_info": {
   "codemirror_mode": {
    "name": "ipython",
    "version": 3
   },
   "file_extension": ".py",
   "mimetype": "text/x-python",
   "name": "python",
   "nbconvert_exporter": "python",
   "pygments_lexer": "ipython3",
   "version": "3.10.1"
  }
 },
 "nbformat": 4,
 "nbformat_minor": 5
}
