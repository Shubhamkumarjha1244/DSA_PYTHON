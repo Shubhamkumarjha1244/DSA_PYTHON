{
 "cells": [
  {
   "cell_type": "code",
   "execution_count": 10,
   "id": "889ee391",
   "metadata": {},
   "outputs": [
    {
     "name": "stdout",
     "output_type": "stream",
     "text": [
      "jai shree ganesh\n"
     ]
    }
   ],
   "source": [
    "print(\"jai shree ganesh\")"
   ]
  },
  {
   "cell_type": "code",
   "execution_count": 11,
   "id": "0db5e387",
   "metadata": {},
   "outputs": [
    {
     "name": "stdout",
     "output_type": "stream",
     "text": [
      "-1\n"
     ]
    }
   ],
   "source": [
    "astr = 'Hello Bob'\n",
    "istr = 0\n",
    "try:\n",
    "    istr = int(astr)\n",
    "except:\n",
    "    istr = -1\n",
    "    print(istr)"
   ]
  },
  {
   "cell_type": "code",
   "execution_count": 12,
   "id": "794ae2ef",
   "metadata": {},
   "outputs": [
    {
     "data": {
      "text/plain": [
       "3"
      ]
     },
     "execution_count": 12,
     "metadata": {},
     "output_type": "execute_result"
    }
   ],
   "source": [
    "10//3\n"
   ]
  },
  {
   "cell_type": "code",
   "execution_count": null,
   "id": "82b38db5",
   "metadata": {},
   "outputs": [],
   "source": []
  },
  {
   "cell_type": "code",
   "execution_count": 13,
   "id": "2efb6954",
   "metadata": {},
   "outputs": [
    {
     "name": "stdout",
     "output_type": "stream",
     "text": [
      "hi shubham 35 (20,) {'x': 200}\n",
      "hi shubham 35 (20,) {'x': 200}\n",
      "hi shubham 35 (20,) {'x': 200}\n",
      "hi shubham 35 (20,) {'x': 200}\n",
      "hi shubham 35 (20,) {'x': 200}\n",
      "hi shubham 35 (20,) {'x': 200}\n",
      "hi shubham 35 (20,) {'x': 200}\n",
      "hi shubham 35 (20,) {'x': 200}\n",
      "hi shubham 35 (20,) {'x': 200}\n",
      "hi shubham 35 (20,) {'x': 200}\n",
      "hi shubham 35 (20,) {'x': 200}\n",
      "hi shubham 35 (20,) {'x': 200}\n",
      "hi shubham 35 (20,) {'x': 200}\n",
      "hi shubham 35 (20,) {'x': 200}\n",
      "hi shubham 35 (20,) {'x': 200}\n",
      "hi shubham 35 (20,) {'x': 200}\n",
      "hi shubham 35 (20,) {'x': 200}\n",
      "hi shubham 35 (20,) {'x': 200}\n",
      "hi shubham 35 (20,) {'x': 200}\n",
      "hi shubham 35 (20,) {'x': 200}\n",
      "hi shubham 35 (20,) {'x': 200}\n",
      "hi shubham 35 (20,) {'x': 200}\n",
      "hi shubham 35 (20,) {'x': 200}\n",
      "hi shubham 35 (20,) {'x': 200}\n",
      "hi shubham 35 (20,) {'x': 200}\n",
      "hi shubham 35 (20,) {'x': 200}\n",
      "hi shubham 35 (20,) {'x': 200}\n",
      "hi shubham 35 (20,) {'x': 200}\n",
      "hi shubham 35 (20,) {'x': 200}\n",
      "hi shubham 35 (20,) {'x': 200}\n",
      "hi shubham 35 (20,) {'x': 200}\n",
      "hi shubham 35 (20,) {'x': 200}\n",
      "hi shubham 35 (20,) {'x': 200}\n",
      "hi shubham 35 (20,) {'x': 200}\n",
      "hi shubham 35 (20,) {'x': 200}\n",
      "hi shubham 35 (20,) {'x': 200}\n",
      "hi shubham 35 (20,) {'x': 200}\n",
      "hi shubham 35 (20,) {'x': 200}\n",
      "hi shubham 35 (20,) {'x': 200}\n",
      "hi shubham 35 (20,) {'x': 200}\n",
      "hi shubham 35 (20,) {'x': 200}\n",
      "hi shubham 35 (20,) {'x': 200}\n",
      "hi shubham 35 (20,) {'x': 200}\n",
      "hi shubham 35 (20,) {'x': 200}\n",
      "hi shubham 35 (20,) {'x': 200}\n",
      "hi shubham 35 (20,) {'x': 200}\n",
      "hi shubham 35 (20,) {'x': 200}\n",
      "hi shubham 35 (20,) {'x': 200}\n",
      "hi shubham 35 (20,) {'x': 200}\n",
      "hi shubham 35 (20,) {'x': 200}\n",
      "hi shubham 35 (20,) {'x': 200}\n",
      "hi shubham 35 (20,) {'x': 200}\n",
      "hi shubham 35 (20,) {'x': 200}\n",
      "hi shubham 35 (20,) {'x': 200}\n",
      "hi shubham 35 (20,) {'x': 200}\n",
      "hi shubham 35 (20,) {'x': 200}\n",
      "hi shubham 35 (20,) {'x': 200}\n",
      "hi shubham 35 (20,) {'x': 200}\n",
      "hi shubham 35 (20,) {'x': 200}\n",
      "hi shubham 35 (20,) {'x': 200}\n",
      "hi shubham 35 (20,) {'x': 200}\n",
      "hi shubham 35 (20,) {'x': 200}\n",
      "hi shubham 35 (20,) {'x': 200}\n",
      "hi shubham 35 (20,) {'x': 200}\n",
      "hi shubham 35 (20,) {'x': 200}\n",
      "hi shubham 35 (20,) {'x': 200}\n",
      "hi shubham 35 (20,) {'x': 200}\n",
      "hi shubham 35 (20,) {'x': 200}\n",
      "hi shubham 35 (20,) {'x': 200}\n",
      "hi shubham 35 (20,) {'x': 200}\n",
      "hi shubham 35 (20,) {'x': 200}\n",
      "hi shubham 35 (20,) {'x': 200}\n",
      "hi shubham 35 (20,) {'x': 200}\n",
      "hi shubham 35 (20,) {'x': 200}\n",
      "hi shubham 35 (20,) {'x': 200}\n",
      "hi shubham 35 (20,) {'x': 200}\n",
      "hi shubham 35 (20,) {'x': 200}\n",
      "hi shubham 35 (20,) {'x': 200}\n",
      "hi shubham 35 (20,) {'x': 200}\n",
      "hi shubham 35 (20,) {'x': 200}\n",
      "hi shubham 35 (20,) {'x': 200}\n",
      "hi shubham 35 (20,) {'x': 200}\n",
      "hi shubham 35 (20,) {'x': 200}\n",
      "hi shubham 35 (20,) {'x': 200}\n",
      "hi shubham 35 (20,) {'x': 200}\n",
      "hi shubham 35 (20,) {'x': 200}\n",
      "hi shubham 35 (20,) {'x': 200}\n",
      "hi shubham 35 (20,) {'x': 200}\n",
      "hi shubham 35 (20,) {'x': 200}\n",
      "hi shubham 35 (20,) {'x': 200}\n",
      "hi shubham 35 (20,) {'x': 200}\n",
      "hi shubham 35 (20,) {'x': 200}\n",
      "hi shubham 35 (20,) {'x': 200}\n",
      "hi shubham 35 (20,) {'x': 200}\n",
      "hi shubham 35 (20,) {'x': 200}\n",
      "hi shubham 35 (20,) {'x': 200}\n",
      "hi shubham 35 (20,) {'x': 200}\n",
      "hi shubham 35 (20,) {'x': 200}\n",
      "hi shubham 35 (20,) {'x': 200}\n"
     ]
    }
   ],
   "source": [
    "\n",
    "x=10\n",
    "\n",
    "def shubham(a,b,c ,*args,**kwargs):\n",
    "    \n",
    "    for i in range(1,c):\n",
    "        s = lambda a,b,x: a**b+x\n",
    "        print(\"hi shubham\",s(a,b,x),args,kwargs)\n",
    "        \n",
    "    \n",
    "    \n",
    "      \n",
    "    \n",
    "shubham(5,2,100,20, x=200)  "
   ]
  },
  {
   "cell_type": "code",
   "execution_count": 14,
   "id": "c1496d1f",
   "metadata": {},
   "outputs": [
    {
     "name": "stdout",
     "output_type": "stream",
     "text": [
      "[5, 4, 3, 2, 1, 7]\n",
      "[7, 1, 2, 3, 4, 5]\n"
     ]
    },
    {
     "ename": "TypeError",
     "evalue": "'list' object is not callable",
     "output_type": "error",
     "traceback": [
      "\u001b[1;31m---------------------------------------------------------------------------\u001b[0m",
      "\u001b[1;31mTypeError\u001b[0m                                 Traceback (most recent call last)",
      "Input \u001b[1;32mIn [14]\u001b[0m, in \u001b[0;36m<module>\u001b[1;34m\u001b[0m\n\u001b[0;32m      4\u001b[0m \u001b[38;5;28mprint\u001b[39m(b[::\u001b[38;5;241m-\u001b[39m\u001b[38;5;241m1\u001b[39m])\n\u001b[0;32m      5\u001b[0m a\u001b[38;5;241m.\u001b[39mpop(\u001b[38;5;241m2\u001b[39m)\n\u001b[1;32m----> 6\u001b[0m \u001b[38;5;28mprint\u001b[39m(\u001b[43ma\u001b[49m\u001b[43m(\u001b[49m\u001b[43m)\u001b[49m)\n",
      "\u001b[1;31mTypeError\u001b[0m: 'list' object is not callable"
     ]
    }
   ],
   "source": [
    "a=[7,1,2,3,4,5]\n",
    "b=a[::-1]\n",
    "print(a[::-1])\n",
    "print(b[::-1])\n",
    "a.pop(2)\n",
    "print(a())\n"
   ]
  }
 ],
 "metadata": {
  "kernelspec": {
   "display_name": "Python 3 (ipykernel)",
   "language": "python",
   "name": "python3"
  },
  "language_info": {
   "codemirror_mode": {
    "name": "ipython",
    "version": 3
   },
   "file_extension": ".py",
   "mimetype": "text/x-python",
   "name": "python",
   "nbconvert_exporter": "python",
   "pygments_lexer": "ipython3",
   "version": "3.10.1"
  }
 },
 "nbformat": 4,
 "nbformat_minor": 5
}
